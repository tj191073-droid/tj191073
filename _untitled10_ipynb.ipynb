{
  "cells": [
    {
      "cell_type": "markdown",
      "metadata": {
        "id": "view-in-github",
        "colab_type": "text"
      },
      "source": [
        "<a href=\"https://colab.research.google.com/github/tj191073-droid/tj191073/blob/main/_untitled10_ipynb.ipynb\" target=\"_parent\"><img src=\"https://colab.research.google.com/assets/colab-badge.svg\" alt=\"Open In Colab\"/></a>"
      ]
    },
    {
      "cell_type": "code",
      "execution_count": null,
      "metadata": {
        "colab": {
          "background_save": true
        },
        "id": "k_vGk-Kc200S",
        "outputId": "07e31ec3-bdb3-4488-cad3-8bd3028dc478"
      },
      "outputs": [
        {
          "name": "stderr",
          "output_type": "stream",
          "text": [
            "Downloading: \"https://download.pytorch.org/models/mobilenet_v2-b0353104.pth\" to /root/.cache/torch/hub/checkpoints/mobilenet_v2-b0353104.pth\n",
            "100%|██████████| 13.6M/13.6M [00:00<00:00, 102MB/s] \n"
          ]
        },
        {
          "name": "stdout",
          "output_type": "stream",
          "text": [
            "Epoch 1: Train Acc = 0.1802, Val Acc = 0.3021\n",
            "Epoch 2: Train Acc = 0.3531, Val Acc = 0.3937\n",
            "Epoch 3: Train Acc = 0.4562, Val Acc = 0.5312\n",
            "Epoch 4: Train Acc = 0.5344, Val Acc = 0.5604\n",
            "Epoch 5: Train Acc = 0.6062, Val Acc = 0.6292\n",
            "Epoch 6: Train Acc = 0.6432, Val Acc = 0.5979\n",
            "Epoch 7: Train Acc = 0.6880, Val Acc = 0.6292\n",
            "Epoch 8: Train Acc = 0.6995, Val Acc = 0.6208\n",
            "Epoch 9: Train Acc = 0.7260, Val Acc = 0.6500\n",
            "Epoch 10: Train Acc = 0.7604, Val Acc = 0.7000\n",
            "Epoch 11: Train Acc = 0.7635, Val Acc = 0.6604\n",
            "Epoch 12: Train Acc = 0.7849, Val Acc = 0.7146\n",
            "Epoch 13: Train Acc = 0.8161, Val Acc = 0.7146\n",
            "Epoch 14: Train Acc = 0.8172, Val Acc = 0.6729\n",
            "Epoch 15: Train Acc = 0.8120, Val Acc = 0.6854\n",
            "Epoch 16: Train Acc = 0.8526, Val Acc = 0.6896\n",
            "Epoch 17: Train Acc = 0.8344, Val Acc = 0.7208\n",
            "Epoch 18: Train Acc = 0.8552, Val Acc = 0.6979\n",
            "Epoch 19: Train Acc = 0.8651, Val Acc = 0.6854\n",
            "Epoch 20: Train Acc = 0.8734, Val Acc = 0.6937\n",
            "Epoch 21: Train Acc = 0.8734, Val Acc = 0.7271\n",
            "Epoch 22: Train Acc = 0.8870, Val Acc = 0.7167\n",
            "Epoch 23: Train Acc = 0.8802, Val Acc = 0.6917\n",
            "Epoch 24: Train Acc = 0.8880, Val Acc = 0.6729\n",
            "Epoch 25: Train Acc = 0.8943, Val Acc = 0.7042\n",
            "Epoch 26: Train Acc = 0.8922, Val Acc = 0.7021\n",
            "Epoch 27: Train Acc = 0.8953, Val Acc = 0.7000\n",
            "⏹️ Early stopping triggered.\n",
            "✅ Done. Best Validation Accuracy: 0.7271\n"
          ]
        }
      ],
      "source": [
        "import os, torch\n",
        "import numpy as np\n",
        "from torch import nn\n",
        "from torchvision import datasets, transforms, models\n",
        "from torch.utils.data import DataLoader\n",
        "from sklearn.utils.class_weight import compute_class_weight\n",
        "\n",
        "# ✅ 环境与路径设置\n",
        "device = torch.device(\"cuda\" if torch.cuda.is_available() else \"cpu\")\n",
        "data_dir = \"/content/fish_dataset_split\"\n",
        "train_dir = os.path.join(data_dir, \"train\")\n",
        "val_dir = os.path.join(data_dir, \"val\")\n",
        "num_classes = len(os.listdir(train_dir))\n",
        "save_path = \"best_model.pth\"\n",
        "\n",
        "# ✅ 参数设置\n",
        "image_size = 160\n",
        "batch_size = 8\n",
        "learning_rate = 3e-4\n",
        "max_epochs = 50\n",
        "early_stop_patience = 6\n",
        "\n",
        "# ✅ 图像增强\n",
        "train_transform = transforms.Compose([\n",
        "    transforms.Resize((image_size, image_size)),\n",
        "    transforms.RandomHorizontalFlip(),\n",
        "    transforms.RandomVerticalFlip(),\n",
        "    transforms.ColorJitter(0.2, 0.2, 0.2, 0.1),\n",
        "    transforms.ToTensor()\n",
        "])\n",
        "val_transform = transforms.Compose([\n",
        "    transforms.Resize((image_size, image_size)),\n",
        "    transforms.ToTensor()\n",
        "])\n",
        "\n",
        "# ✅ 加载数据\n",
        "train_data = datasets.ImageFolder(train_dir, transform=train_transform)\n",
        "val_data = datasets.ImageFolder(val_dir, transform=val_transform)\n",
        "train_loader = DataLoader(train_data, batch_size=batch_size, shuffle=True)\n",
        "val_loader = DataLoader(val_data, batch_size=batch_size)\n",
        "\n",
        "# ✅ 类别权重（应对长尾分布）\n",
        "weights = compute_class_weight(class_weight=\"balanced\",\n",
        "                                classes=np.unique(train_data.targets),\n",
        "                                y=train_data.targets)\n",
        "weights = torch.tensor(weights, dtype=torch.float).to(device)\n",
        "\n",
        "# ✅ 加载模型并解冻所有层\n",
        "model = models.mobilenet_v2(weights=\"IMAGENET1K_V1\")\n",
        "for param in model.parameters():\n",
        "    param.requires_grad = True\n",
        "model.classifier[1] = nn.Linear(model.last_channel, num_classes)\n",
        "model.to(device)\n",
        "\n",
        "# ✅ 损失函数与优化器\n",
        "criterion = nn.CrossEntropyLoss(weight=weights)\n",
        "optimizer = torch.optim.Adam(model.parameters(), lr=learning_rate)\n",
        "\n",
        "# ✅ 训练循环\n",
        "best_val_acc, patience_counter = 0.0, 0\n",
        "for epoch in range(1, max_epochs + 1):\n",
        "    # === Train ===\n",
        "    model.train()\n",
        "    correct, total = 0, 0\n",
        "    for x, y in train_loader:\n",
        "        x, y = x.to(device), y.to(device)\n",
        "        optimizer.zero_grad()\n",
        "        pred = model(x)\n",
        "        loss = criterion(pred, y)\n",
        "        loss.backward()\n",
        "        optimizer.step()\n",
        "        correct += (pred.argmax(1) == y).sum().item()\n",
        "        total += y.size(0)\n",
        "    train_acc = correct / total\n",
        "\n",
        "    # === Validation ===\n",
        "    model.eval()\n",
        "    correct, total = 0, 0\n",
        "    with torch.no_grad():\n",
        "        for x, y in val_loader:\n",
        "            x, y = x.to(device), y.to(device)\n",
        "            pred = model(x)\n",
        "            correct += (pred.argmax(1) == y).sum().item()\n",
        "            total += y.size(0)\n",
        "    val_acc = correct / total\n",
        "\n",
        "    print(f\"Epoch {epoch}: Train Acc = {train_acc:.4f}, Val Acc = {val_acc:.4f}\")\n",
        "\n",
        "    # === Early Stopping ===\n",
        "    if val_acc > best_val_acc:\n",
        "        best_val_acc = val_acc\n",
        "        torch.save(model.state_dict(), save_path)\n",
        "        patience_counter = 0\n",
        "    else:\n",
        "        patience_counter += 1\n",
        "        if patience_counter >= early_stop_patience:\n",
        "            print(\"⏹️ Early stopping triggered.\")\n",
        "            break\n",
        "\n",
        "# ✅ 加载最优模型\n",
        "model.load_state_dict(torch.load(save_path))\n",
        "print(f\"✅ Done. Best Validation Accuracy: {best_val_acc:.4f}\")"
      ]
    },
    {
      "cell_type": "code",
      "execution_count": null,
      "metadata": {
        "id": "fGeyMq9523ow"
      },
      "outputs": [],
      "source": []
    },
    {
      "cell_type": "code",
      "execution_count": null,
      "metadata": {
        "colab": {
          "background_save": true,
          "base_uri": "https://localhost:8080/"
        },
        "id": "K0ov8n6F25TD",
        "outputId": "b751361c-3c5e-43a4-ffdf-5b61136ea42f"
      },
      "outputs": [
        {
          "name": "stdout",
          "output_type": "stream",
          "text": [
            "Cloning into 'fish-vista'...\n",
            "remote: Enumerating objects: 80157, done.\u001b[K\n",
            "remote: Total 80157 (delta 0), reused 0 (delta 0), pack-reused 80157 (from 1)\u001b[K\n",
            "Receiving objects: 100% (80157/80157), 212.04 MiB | 25.35 MiB/s, done.\n",
            "Resolving deltas: 100% (104/104), done.\n",
            "Updating files: 100% (75833/75833), done.\n",
            "Filtering content: 100% (75699/75699), 11.04 GiB | 29.52 MiB/s, done.\n",
            "/content/fish-vista\n",
            "Updated git hooks.\n",
            "Git LFS initialized.\n"
          ]
        }
      ],
      "source": [
        "# 克隆数据集\n",
        "!git clone https://huggingface.co/datasets/imageomics/fish-vista\n",
        "%cd fish-vista\n",
        "\n",
        "# 安装 Git LFS 并拉取大文件（包括图像）\n",
        "!git lfs install\n",
        "!git lfs pull"
      ]
    },
    {
      "cell_type": "code",
      "execution_count": null,
      "metadata": {
        "id": "jXBy3rEt7swq"
      },
      "outputs": [],
      "source": [
        "import os\n",
        "import pandas as pd\n",
        "\n",
        "# 读取 CSV 元数据\n",
        "df = pd.read_csv(\"/content/fish-vista/classification_train.csv\", low_memory=False)\n",
        "\n",
        "# 仅保留 family 为 Cyprinidae 的记录\n",
        "cy_df = df[df['family'] == 'Cyprinidae']\n",
        "\n",
        "# 找出每类图片数 ≥ 60 的种类\n",
        "species_counts = cy_df['standardized_species'].value_counts()\n",
        "valid_species = species_counts[species_counts >= 60]\n",
        "\n",
        "# 随机选取 40 个种类\n",
        "selected_species = valid_species.sample(n=40, random_state=42).index.tolist()\n",
        "sub_df = cy_df[cy_df['standardized_species'].isin(selected_species)]\n",
        "\n",
        "# 每个种类随机抽取 60 张图像\n",
        "subset = sub_df.groupby('standardized_species', group_keys=False).apply(\n",
        "    lambda x: x.sample(60, random_state=42)\n",
        ").reset_index(drop=True)\n",
        "\n",
        "# 拼接真实图像路径\n",
        "def resolve_path(file_name):\n",
        "    try:\n",
        "        chunk_id = file_name.split('/')[1].split('_')[1]\n",
        "        return os.path.join(\"/content/fish-vista/Images\", f\"chunk_{chunk_id}\", os.path.basename(file_name))\n",
        "    except:\n",
        "        return None\n",
        "\n",
        "subset['image_path'] = subset['file_name'].apply(resolve_path)\n",
        "\n",
        "# 丢弃路径无效的行\n",
        "subset['image_exists'] = subset['image_path'].apply(lambda x: os.path.exists(x))\n",
        "subset = subset[subset['image_exists']].reset_index(drop=True)\n",
        "\n",
        "# 查看结果\n",
        "print(f\"✅ 最终提取：{len(subset)} 张图像，{subset['standardized_species'].nunique()} 个种类\")\n",
        "print(subset[['standardized_species', 'image_path']].head())"
      ]
    }
  ],
  "metadata": {
    "colab": {
      "provenance": [],
      "authorship_tag": "ABX9TyOR7vLozVHZaH833t7KZBvT",
      "include_colab_link": true
    },
    "kernelspec": {
      "display_name": "Python 3",
      "name": "python3"
    },
    "language_info": {
      "name": "python"
    }
  },
  "nbformat": 4,
  "nbformat_minor": 0
}