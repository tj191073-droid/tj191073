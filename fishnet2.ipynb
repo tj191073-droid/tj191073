{
  "cells": [
    {
      "cell_type": "markdown",
      "metadata": {
        "id": "view-in-github",
        "colab_type": "text"
      },
      "source": [
        "<a href=\"https://colab.research.google.com/github/tj191073-droid/tj191073/blob/main/fishnet2.ipynb\" target=\"_parent\"><img src=\"https://colab.research.google.com/assets/colab-badge.svg\" alt=\"Open In Colab\"/></a>"
      ]
    },
    {
      "cell_type": "code",
      "execution_count": 1,
      "metadata": {
        "colab": {
          "base_uri": "https://localhost:8080/"
        },
        "id": "XLx0Zh1IbC_C",
        "outputId": "419d491a-f76e-47cc-b3df-25e6198f243b"
      },
      "outputs": [
        {
          "output_type": "stream",
          "name": "stdout",
          "text": [
            "Cloning into 'fish-vista'...\n",
            "remote: Enumerating objects: 80157, done.\u001b[K\n",
            "remote: Total 80157 (delta 0), reused 0 (delta 0), pack-reused 80157 (from 1)\u001b[K\n",
            "Receiving objects: 100% (80157/80157), 212.04 MiB | 19.05 MiB/s, done.\n",
            "Resolving deltas: 100% (104/104), done.\n",
            "Updating files: 100% (75833/75833), done.\n",
            "Filtering content: 100% (75730/75730), 11.04 GiB | 21.80 MiB/s, done.\n"
          ]
        }
      ],
      "source": [
        "!git clone https://huggingface.co/datasets/imageomics/fish-vista"
      ]
    },
    {
      "cell_type": "code",
      "execution_count": 2,
      "metadata": {
        "id": "BklXmiYUbkDN",
        "colab": {
          "base_uri": "https://localhost:8080/"
        },
        "outputId": "13f407d7-49ea-43fc-b750-10d145059c8c"
      },
      "outputs": [
        {
          "output_type": "stream",
          "name": "stdout",
          "text": [
            "/content/fish-vista\n",
            "Updated git hooks.\n",
            "Git LFS initialized.\n"
          ]
        }
      ],
      "source": [
        "%cd fish-vista\n",
        "!git lfs install\n",
        "!git lfs pull"
      ]
    },
    {
      "cell_type": "code",
      "execution_count": 3,
      "metadata": {
        "id": "fQ2yt1HrblOb",
        "colab": {
          "base_uri": "https://localhost:8080/"
        },
        "outputId": "625fd8c4-fba3-412b-e3ba-0496c33fe1df"
      },
      "outputs": [
        {
          "output_type": "stream",
          "name": "stdout",
          "text": [
            "True\n"
          ]
        }
      ],
      "source": [
        "import os\n",
        "print(os.path.exists(\"/content/fish-vista/classification_train.csv\"))"
      ]
    },
    {
      "cell_type": "code",
      "source": [
        "import pandas as pd\n",
        "import os\n",
        "\n",
        "# 1. 加载原始数据\n",
        "df = pd.read_csv(\"/content/fish-vista/classification_train.csv\", low_memory=False)\n",
        "\n",
        "# 2. 统计每个鱼科下的图像数量（按物种聚合）\n",
        "grouped = df.groupby([\"family\", \"standardized_species\"]).size().reset_index(name='count')\n",
        "\n",
        "# 3. 筛选出图像数量 >= 30 的物种\n",
        "grouped = grouped[grouped['count'] >= 30]\n",
        "\n",
        "# 4. 每个鱼科最多随机选 2 个物种（鱼类），最多保留 5 个鱼科\n",
        "selected_families = grouped.groupby(\"family\")['count'].sum().sort_values(ascending=False).head(5).index.tolist()\n",
        "filtered = grouped[grouped['family'].isin(selected_families)]\n",
        "\n",
        "# 5. 每个鱼科最多选 2 个物种\n",
        "selected_species = (\n",
        "    filtered.groupby(\"family\")\n",
        "    .apply(lambda x: x.sample(n=min(len(x), 2), random_state=42))\n",
        "    .reset_index(drop=True)\n",
        ")\n",
        "\n",
        "# 6. 从原始 df 中筛选图像记录\n",
        "sub_df = df[df['standardized_species'].isin(selected_species['standardized_species'])]\n",
        "\n",
        "# 7. 每个物种最多取 30 张\n",
        "subset = sub_df.groupby('standardized_species', group_keys=False).apply(\n",
        "    lambda x: x.sample(n=min(len(x), 30), random_state=42)\n",
        ").reset_index(drop=True)\n",
        "\n",
        "# 8. 构建完整图像路径\n",
        "def resolve_path(file_name):\n",
        "    try:\n",
        "        chunk = file_name.split('/')[1].split('_')[1]\n",
        "        return os.path.join(\"/content/fish-vista/Images\", f\"chunk_{chunk}\", os.path.basename(file_name))\n",
        "    except:\n",
        "        return None\n",
        "\n",
        "subset['image_path'] = subset['file_name'].apply(resolve_path)\n",
        "subset = subset[subset['image_path'].notnull()]\n",
        "subset['image_exists'] = subset['image_path'].apply(lambda x: os.path.exists(x))\n",
        "subset = subset[subset['image_exists']].reset_index(drop=True)\n",
        "\n",
        "# 9. 展示摘要\n",
        "print(f\"✅ 最终子集包含 {subset['family'].nunique()} 个鱼科，{subset['standardized_species'].nunique()} 个物种，{len(subset)} 张图像\")\n",
        "print(subset[['family', 'standardized_species']].value_counts())"
      ],
      "metadata": {
        "colab": {
          "base_uri": "https://localhost:8080/"
        },
        "id": "QgUc-edzpbhk",
        "outputId": "a43a4d4b-23ad-464c-cc34-fe67be08d7d7"
      },
      "execution_count": 10,
      "outputs": [
        {
          "output_type": "stream",
          "name": "stdout",
          "text": [
            "✅ 最终子集包含 8 个鱼科，10 个物种，299 张图像\n",
            "family         standardized_species\n",
            "Centrarchidae  lepomis megalotis       30\n",
            "               lepomis miniatus        30\n",
            "Cottidae       cottus perplexus        30\n",
            "Cyprinidae     notropis rubellus       30\n",
            "Esocidae       esox americanus         30\n",
            "Ictaluridae    noturus exilis          30\n",
            "Esocidae       esox lucius             30\n",
            "Cottidae       cottus carolinae        29\n",
            "Cyprinidae     notropis telescopus     28\n",
            "Ictaluridae    noturus eleutherus      28\n",
            "ictaluridae    noturus eleutherus       2\n",
            "cottidae       cottus carolinae         1\n",
            "cyprinidae     notropis telescopus      1\n",
            "Name: count, dtype: int64\n"
          ]
        },
        {
          "output_type": "stream",
          "name": "stderr",
          "text": [
            "/tmp/ipython-input-10-3213855260.py:20: DeprecationWarning: DataFrameGroupBy.apply operated on the grouping columns. This behavior is deprecated, and in a future version of pandas the grouping columns will be excluded from the operation. Either pass `include_groups=False` to exclude the groupings or explicitly select the grouping columns after groupby to silence this warning.\n",
            "  .apply(lambda x: x.sample(n=min(len(x), 2), random_state=42))\n",
            "/tmp/ipython-input-10-3213855260.py:28: DeprecationWarning: DataFrameGroupBy.apply operated on the grouping columns. This behavior is deprecated, and in a future version of pandas the grouping columns will be excluded from the operation. Either pass `include_groups=False` to exclude the groupings or explicitly select the grouping columns after groupby to silence this warning.\n",
            "  subset = sub_df.groupby('standardized_species', group_keys=False).apply(\n"
          ]
        }
      ]
    },
    {
      "cell_type": "code",
      "source": [
        "import shutil\n",
        "from sklearn.model_selection import train_test_split\n",
        "\n",
        "# 指定输出目录\n",
        "base_dir = \"/content/fish_dataset_mini\"\n",
        "train_dir = os.path.join(base_dir, \"train\")\n",
        "val_dir = os.path.join(base_dir, \"val\")\n",
        "\n",
        "# 清空旧目录\n",
        "if os.path.exists(base_dir):\n",
        "    shutil.rmtree(base_dir)\n",
        "\n",
        "# 创建 train/val 目录\n",
        "for d in [train_dir, val_dir]:\n",
        "    os.makedirs(d, exist_ok=True)\n",
        "\n",
        "# 按类别划分图像\n",
        "for cls in subset[\"standardized_species\"].unique():\n",
        "    cls_df = subset[subset[\"standardized_species\"] == cls]\n",
        "    image_paths = cls_df[\"image_path\"].tolist()\n",
        "    image_paths = [p for p in image_paths if isinstance(p, str)]  # 防止 None\n",
        "\n",
        "    train_imgs, val_imgs = train_test_split(image_paths, test_size=0.2, random_state=42)\n",
        "\n",
        "    os.makedirs(os.path.join(train_dir, cls), exist_ok=True)\n",
        "    os.makedirs(os.path.join(val_dir, cls), exist_ok=True)\n",
        "\n",
        "    for src in train_imgs:\n",
        "        shutil.copy(src, os.path.join(train_dir, cls, os.path.basename(src)))\n",
        "    for src in val_imgs:\n",
        "        shutil.copy(src, os.path.join(val_dir, cls, os.path.basename(src)))\n",
        "\n",
        "print(\"✅ 图像划分完成（train/val）\")"
      ],
      "metadata": {
        "colab": {
          "base_uri": "https://localhost:8080/"
        },
        "id": "36Xs1DDQpgle",
        "outputId": "b5d291e8-abba-4c92-b87a-08bc9013839b"
      },
      "execution_count": 11,
      "outputs": [
        {
          "output_type": "stream",
          "name": "stdout",
          "text": [
            "✅ 图像划分完成（train/val）\n"
          ]
        }
      ]
    },
    {
      "cell_type": "code",
      "source": [
        "import os\n",
        "import torch\n",
        "from torch import nn\n",
        "from torchvision import datasets, transforms, models\n",
        "from torch.utils.data import DataLoader\n",
        "\n",
        "# 设备\n",
        "device = torch.device(\"cuda\" if torch.cuda.is_available() else \"cpu\")\n",
        "\n",
        "# 数据路径\n",
        "data_dir = \"/content/fish_dataset_mini\"\n",
        "train_dir = os.path.join(data_dir, \"train\")\n",
        "val_dir = os.path.join(data_dir, \"val\")\n",
        "num_classes = len(os.listdir(train_dir))\n",
        "\n",
        "# 图像增强与加载\n",
        "image_size = 128\n",
        "batch_size = 8\n",
        "\n",
        "train_transform = transforms.Compose([\n",
        "    transforms.Resize((image_size, image_size)),\n",
        "    transforms.RandomHorizontalFlip(),\n",
        "    transforms.RandomRotation(10),\n",
        "    transforms.ToTensor(),\n",
        "])\n",
        "\n",
        "val_transform = transforms.Compose([\n",
        "    transforms.Resize((image_size, image_size)),\n",
        "    transforms.ToTensor(),\n",
        "])\n",
        "\n",
        "train_data = datasets.ImageFolder(train_dir, transform=train_transform)\n",
        "val_data = datasets.ImageFolder(val_dir, transform=val_transform)\n",
        "\n",
        "train_loader = DataLoader(train_data, batch_size=batch_size, shuffle=True)\n",
        "val_loader = DataLoader(val_data, batch_size=batch_size)\n",
        "\n",
        "# 模型结构：MobileNetV2 + 分类头\n",
        "model = models.mobilenet_v2(weights=\"MobileNet_V2_Weights.DEFAULT\")\n",
        "model.classifier[1] = nn.Linear(model.last_channel, num_classes)\n",
        "model = model.to(device)\n",
        "\n",
        "# 损失和优化器\n",
        "criterion = nn.CrossEntropyLoss()\n",
        "optimizer = torch.optim.Adam(model.parameters(), lr=0.001)\n",
        "\n",
        "# 模型训练\n",
        "best_val_acc = 0.0\n",
        "save_path = \"best_model.pth\"\n",
        "\n",
        "for epoch in range(1, 21):  # 训练 20 轮\n",
        "    model.train()\n",
        "    correct, total = 0, 0\n",
        "    for images, labels in train_loader:\n",
        "        images, labels = images.to(device), labels.to(device)\n",
        "        optimizer.zero_grad()\n",
        "        outputs = model(images)\n",
        "        loss = criterion(outputs, labels)\n",
        "        loss.backward()\n",
        "        optimizer.step()\n",
        "        _, preds = torch.max(outputs, 1)\n",
        "        total += labels.size(0)\n",
        "        correct += (preds == labels).sum().item()\n",
        "    train_acc = correct / total\n",
        "\n",
        "    # 验证\n",
        "    model.eval()\n",
        "    correct, total = 0, 0\n",
        "    with torch.no_grad():\n",
        "        for images, labels in val_loader:\n",
        "            images, labels = images.to(device), labels.to(device)\n",
        "            outputs = model(images)\n",
        "            _, preds = torch.max(outputs, 1)\n",
        "            total += labels.size(0)\n",
        "            correct += (preds == labels).sum().item()\n",
        "    val_acc = correct / total\n",
        "\n",
        "    print(f\"Epoch {epoch}: Train Acc = {train_acc:.4f}, Val Acc = {val_acc:.4f}\")\n",
        "\n",
        "    # 保存最优模型\n",
        "    if val_acc > best_val_acc:\n",
        "        best_val_acc = val_acc\n",
        "        torch.save(model.state_dict(), save_path)\n",
        "        print(f\"✅ Saved best model (val acc = {val_acc:.4f})\")\n",
        "\n",
        "print(\"🎯 训练完成。最优模型保存在 best_model.pth\")"
      ],
      "metadata": {
        "colab": {
          "base_uri": "https://localhost:8080/"
        },
        "id": "z01JW9EorPv9",
        "outputId": "115ebe2a-f16f-4a90-a245-c77e83beee77"
      },
      "execution_count": 13,
      "outputs": [
        {
          "output_type": "stream",
          "name": "stdout",
          "text": [
            "Epoch 1: Train Acc = 0.4770, Val Acc = 0.7333\n",
            "✅ Saved best model (val acc = 0.7333)\n",
            "Epoch 2: Train Acc = 0.6946, Val Acc = 0.7333\n",
            "Epoch 3: Train Acc = 0.7992, Val Acc = 0.8000\n",
            "✅ Saved best model (val acc = 0.8000)\n",
            "Epoch 4: Train Acc = 0.8536, Val Acc = 0.8500\n",
            "✅ Saved best model (val acc = 0.8500)\n",
            "Epoch 5: Train Acc = 0.8870, Val Acc = 0.8167\n",
            "Epoch 6: Train Acc = 0.8661, Val Acc = 0.8333\n",
            "Epoch 7: Train Acc = 0.8703, Val Acc = 0.7333\n",
            "Epoch 8: Train Acc = 0.8787, Val Acc = 0.7500\n",
            "Epoch 9: Train Acc = 0.8117, Val Acc = 0.7333\n",
            "Epoch 10: Train Acc = 0.8703, Val Acc = 0.7167\n",
            "Epoch 11: Train Acc = 0.9498, Val Acc = 0.7833\n",
            "Epoch 12: Train Acc = 0.9414, Val Acc = 0.8167\n",
            "Epoch 13: Train Acc = 0.9331, Val Acc = 0.8000\n",
            "Epoch 14: Train Acc = 0.9456, Val Acc = 0.7333\n",
            "Epoch 15: Train Acc = 0.9414, Val Acc = 0.8167\n",
            "Epoch 16: Train Acc = 0.9121, Val Acc = 0.7167\n",
            "Epoch 17: Train Acc = 0.9372, Val Acc = 0.8333\n",
            "Epoch 18: Train Acc = 0.9331, Val Acc = 0.7500\n",
            "Epoch 19: Train Acc = 0.9331, Val Acc = 0.8667\n",
            "✅ Saved best model (val acc = 0.8667)\n",
            "Epoch 20: Train Acc = 0.9540, Val Acc = 0.8167\n",
            "🎯 训练完成。最优模型保存在 best_model.pth\n"
          ]
        }
      ]
    },
    {
      "cell_type": "code",
      "source": [
        "from google.colab import files\n",
        "from PIL import Image\n",
        "from torchvision import transforms\n",
        "import torch\n",
        "import os\n",
        "\n",
        "# 上传图片\n",
        "uploaded = files.upload()\n",
        "img_path = list(uploaded.keys())[0]\n",
        "print(f\"✅ 上传成功：{img_path}\")"
      ],
      "metadata": {
        "colab": {
          "base_uri": "https://localhost:8080/",
          "height": 132
        },
        "id": "iZSmnjUgrUdv",
        "outputId": "adfd9e88-80a6-425c-d049-41b5792f3530"
      },
      "execution_count": 25,
      "outputs": [
        {
          "output_type": "display_data",
          "data": {
            "text/plain": [
              "<IPython.core.display.HTML object>"
            ],
            "text/html": [
              "\n",
              "     <input type=\"file\" id=\"files-06378647-3e71-49d8-b755-0c8e3ba7a378\" name=\"files[]\" multiple disabled\n",
              "        style=\"border:none\" />\n",
              "     <output id=\"result-06378647-3e71-49d8-b755-0c8e3ba7a378\">\n",
              "      Upload widget is only available when the cell has been executed in the\n",
              "      current browser session. Please rerun this cell to enable.\n",
              "      </output>\n",
              "      <script>// Copyright 2017 Google LLC\n",
              "//\n",
              "// Licensed under the Apache License, Version 2.0 (the \"License\");\n",
              "// you may not use this file except in compliance with the License.\n",
              "// You may obtain a copy of the License at\n",
              "//\n",
              "//      http://www.apache.org/licenses/LICENSE-2.0\n",
              "//\n",
              "// Unless required by applicable law or agreed to in writing, software\n",
              "// distributed under the License is distributed on an \"AS IS\" BASIS,\n",
              "// WITHOUT WARRANTIES OR CONDITIONS OF ANY KIND, either express or implied.\n",
              "// See the License for the specific language governing permissions and\n",
              "// limitations under the License.\n",
              "\n",
              "/**\n",
              " * @fileoverview Helpers for google.colab Python module.\n",
              " */\n",
              "(function(scope) {\n",
              "function span(text, styleAttributes = {}) {\n",
              "  const element = document.createElement('span');\n",
              "  element.textContent = text;\n",
              "  for (const key of Object.keys(styleAttributes)) {\n",
              "    element.style[key] = styleAttributes[key];\n",
              "  }\n",
              "  return element;\n",
              "}\n",
              "\n",
              "// Max number of bytes which will be uploaded at a time.\n",
              "const MAX_PAYLOAD_SIZE = 100 * 1024;\n",
              "\n",
              "function _uploadFiles(inputId, outputId) {\n",
              "  const steps = uploadFilesStep(inputId, outputId);\n",
              "  const outputElement = document.getElementById(outputId);\n",
              "  // Cache steps on the outputElement to make it available for the next call\n",
              "  // to uploadFilesContinue from Python.\n",
              "  outputElement.steps = steps;\n",
              "\n",
              "  return _uploadFilesContinue(outputId);\n",
              "}\n",
              "\n",
              "// This is roughly an async generator (not supported in the browser yet),\n",
              "// where there are multiple asynchronous steps and the Python side is going\n",
              "// to poll for completion of each step.\n",
              "// This uses a Promise to block the python side on completion of each step,\n",
              "// then passes the result of the previous step as the input to the next step.\n",
              "function _uploadFilesContinue(outputId) {\n",
              "  const outputElement = document.getElementById(outputId);\n",
              "  const steps = outputElement.steps;\n",
              "\n",
              "  const next = steps.next(outputElement.lastPromiseValue);\n",
              "  return Promise.resolve(next.value.promise).then((value) => {\n",
              "    // Cache the last promise value to make it available to the next\n",
              "    // step of the generator.\n",
              "    outputElement.lastPromiseValue = value;\n",
              "    return next.value.response;\n",
              "  });\n",
              "}\n",
              "\n",
              "/**\n",
              " * Generator function which is called between each async step of the upload\n",
              " * process.\n",
              " * @param {string} inputId Element ID of the input file picker element.\n",
              " * @param {string} outputId Element ID of the output display.\n",
              " * @return {!Iterable<!Object>} Iterable of next steps.\n",
              " */\n",
              "function* uploadFilesStep(inputId, outputId) {\n",
              "  const inputElement = document.getElementById(inputId);\n",
              "  inputElement.disabled = false;\n",
              "\n",
              "  const outputElement = document.getElementById(outputId);\n",
              "  outputElement.innerHTML = '';\n",
              "\n",
              "  const pickedPromise = new Promise((resolve) => {\n",
              "    inputElement.addEventListener('change', (e) => {\n",
              "      resolve(e.target.files);\n",
              "    });\n",
              "  });\n",
              "\n",
              "  const cancel = document.createElement('button');\n",
              "  inputElement.parentElement.appendChild(cancel);\n",
              "  cancel.textContent = 'Cancel upload';\n",
              "  const cancelPromise = new Promise((resolve) => {\n",
              "    cancel.onclick = () => {\n",
              "      resolve(null);\n",
              "    };\n",
              "  });\n",
              "\n",
              "  // Wait for the user to pick the files.\n",
              "  const files = yield {\n",
              "    promise: Promise.race([pickedPromise, cancelPromise]),\n",
              "    response: {\n",
              "      action: 'starting',\n",
              "    }\n",
              "  };\n",
              "\n",
              "  cancel.remove();\n",
              "\n",
              "  // Disable the input element since further picks are not allowed.\n",
              "  inputElement.disabled = true;\n",
              "\n",
              "  if (!files) {\n",
              "    return {\n",
              "      response: {\n",
              "        action: 'complete',\n",
              "      }\n",
              "    };\n",
              "  }\n",
              "\n",
              "  for (const file of files) {\n",
              "    const li = document.createElement('li');\n",
              "    li.append(span(file.name, {fontWeight: 'bold'}));\n",
              "    li.append(span(\n",
              "        `(${file.type || 'n/a'}) - ${file.size} bytes, ` +\n",
              "        `last modified: ${\n",
              "            file.lastModifiedDate ? file.lastModifiedDate.toLocaleDateString() :\n",
              "                                    'n/a'} - `));\n",
              "    const percent = span('0% done');\n",
              "    li.appendChild(percent);\n",
              "\n",
              "    outputElement.appendChild(li);\n",
              "\n",
              "    const fileDataPromise = new Promise((resolve) => {\n",
              "      const reader = new FileReader();\n",
              "      reader.onload = (e) => {\n",
              "        resolve(e.target.result);\n",
              "      };\n",
              "      reader.readAsArrayBuffer(file);\n",
              "    });\n",
              "    // Wait for the data to be ready.\n",
              "    let fileData = yield {\n",
              "      promise: fileDataPromise,\n",
              "      response: {\n",
              "        action: 'continue',\n",
              "      }\n",
              "    };\n",
              "\n",
              "    // Use a chunked sending to avoid message size limits. See b/62115660.\n",
              "    let position = 0;\n",
              "    do {\n",
              "      const length = Math.min(fileData.byteLength - position, MAX_PAYLOAD_SIZE);\n",
              "      const chunk = new Uint8Array(fileData, position, length);\n",
              "      position += length;\n",
              "\n",
              "      const base64 = btoa(String.fromCharCode.apply(null, chunk));\n",
              "      yield {\n",
              "        response: {\n",
              "          action: 'append',\n",
              "          file: file.name,\n",
              "          data: base64,\n",
              "        },\n",
              "      };\n",
              "\n",
              "      let percentDone = fileData.byteLength === 0 ?\n",
              "          100 :\n",
              "          Math.round((position / fileData.byteLength) * 100);\n",
              "      percent.textContent = `${percentDone}% done`;\n",
              "\n",
              "    } while (position < fileData.byteLength);\n",
              "  }\n",
              "\n",
              "  // All done.\n",
              "  yield {\n",
              "    response: {\n",
              "      action: 'complete',\n",
              "    }\n",
              "  };\n",
              "}\n",
              "\n",
              "scope.google = scope.google || {};\n",
              "scope.google.colab = scope.google.colab || {};\n",
              "scope.google.colab._files = {\n",
              "  _uploadFiles,\n",
              "  _uploadFilesContinue,\n",
              "};\n",
              "})(self);\n",
              "</script> "
            ]
          },
          "metadata": {}
        },
        {
          "output_type": "stream",
          "name": "stdout",
          "text": [
            "Saving 107737_dor_FMNH_FZ.jpg to 107737_dor_FMNH_FZ.jpg\n",
            "✅ 上传成功：107737_dor_FMNH_FZ.jpg\n"
          ]
        }
      ]
    },
    {
      "cell_type": "code",
      "source": [
        "# 图像预处理（要和训练时保持一致）\n",
        "predict_tf = transforms.Compose([\n",
        "    transforms.Resize((image_size, image_size)),\n",
        "    transforms.ToTensor()\n",
        "])\n",
        "\n",
        "# 预测函数\n",
        "def predict_image(model, img_path, class_names):\n",
        "    model.eval()\n",
        "    img = Image.open(img_path).convert(\"RGB\")\n",
        "    input_tensor = predict_tf(img).unsqueeze(0).to(device)\n",
        "\n",
        "    with torch.no_grad():\n",
        "        output = model(input_tensor)\n",
        "        prob = torch.nn.functional.softmax(output[0], dim=0)\n",
        "        pred_idx = torch.argmax(prob).item()\n",
        "        pred_class = class_names[pred_idx]\n",
        "        confidence = prob[pred_idx].item()\n",
        "\n",
        "    print(f\"✅ 预测类别：{pred_class}，置信度：{confidence:.2f}\")\n",
        "    return pred_class, confidence"
      ],
      "metadata": {
        "id": "7b4j9wPorYWe"
      },
      "execution_count": 24,
      "outputs": []
    },
    {
      "cell_type": "code",
      "source": [
        "# 类别名来自训练集\n",
        "class_names = train_data.classes\n",
        "\n",
        "# 调用预测\n",
        "predict_image(model, img_path, class_names)"
      ],
      "metadata": {
        "colab": {
          "base_uri": "https://localhost:8080/"
        },
        "id": "Cz-dpNXlra25",
        "outputId": "aa273d06-612f-4d91-fd61-5609237e96da"
      },
      "execution_count": 26,
      "outputs": [
        {
          "output_type": "stream",
          "name": "stdout",
          "text": [
            "✅ 预测类别：cottus carolinae，置信度：0.97\n"
          ]
        },
        {
          "output_type": "execute_result",
          "data": {
            "text/plain": [
              "('cottus carolinae', 0.9741412401199341)"
            ]
          },
          "metadata": {},
          "execution_count": 26
        }
      ]
    }
  ],
  "metadata": {
    "colab": {
      "provenance": [],
      "authorship_tag": "ABX9TyM50N+h0Yv3OFCt6f9arDm2",
      "include_colab_link": true
    },
    "kernelspec": {
      "display_name": "Python 3",
      "name": "python3"
    },
    "language_info": {
      "name": "python"
    }
  },
  "nbformat": 4,
  "nbformat_minor": 0
}