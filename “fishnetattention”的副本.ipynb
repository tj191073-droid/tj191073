{
  "cells": [
    {
      "cell_type": "markdown",
      "metadata": {
        "id": "view-in-github",
        "colab_type": "text"
      },
      "source": [
        "<a href=\"https://colab.research.google.com/github/tj191073-droid/tj191073/blob/main/%E2%80%9Cfishnetattention%E2%80%9D%E7%9A%84%E5%89%AF%E6%9C%AC.ipynb\" target=\"_parent\"><img src=\"https://colab.research.google.com/assets/colab-badge.svg\" alt=\"Open In Colab\"/></a>"
      ]
    },
    {
      "cell_type": "code",
      "execution_count": null,
      "metadata": {
        "colab": {
          "base_uri": "https://localhost:8080/"
        },
        "id": "XLx0Zh1IbC_C",
        "outputId": "5c0b281f-8260-4a78-999e-78e8ce4abbfb"
      },
      "outputs": [
        {
          "output_type": "stream",
          "name": "stdout",
          "text": [
            "Cloning into 'fish-vista'...\n",
            "remote: Enumerating objects: 80157, done.\u001b[K\n",
            "remote: Total 80157 (delta 0), reused 0 (delta 0), pack-reused 80157 (from 1)\u001b[K\n",
            "Receiving objects: 100% (80157/80157), 212.04 MiB | 20.63 MiB/s, done.\n",
            "Resolving deltas: 100% (104/104), done.\n",
            "Updating files: 100% (75833/75833), done.\n",
            "Filtering content: 100% (75730/75730), 11.04 GiB | 19.38 MiB/s, done.\n"
          ]
        }
      ],
      "source": [
        "!git clone https://huggingface.co/datasets/imageomics/fish-vista"
      ]
    },
    {
      "cell_type": "code",
      "execution_count": null,
      "metadata": {
        "id": "BklXmiYUbkDN",
        "colab": {
          "base_uri": "https://localhost:8080/"
        },
        "outputId": "76377243-36dc-4a29-ca92-e6c0e1732734"
      },
      "outputs": [
        {
          "output_type": "stream",
          "name": "stdout",
          "text": [
            "/content/fish-vista\n",
            "Updated git hooks.\n",
            "Git LFS initialized.\n"
          ]
        }
      ],
      "source": [
        "%cd fish-vista\n",
        "!git lfs install\n",
        "!git lfs pull"
      ]
    },
    {
      "cell_type": "code",
      "execution_count": null,
      "metadata": {
        "id": "fQ2yt1HrblOb",
        "colab": {
          "base_uri": "https://localhost:8080/"
        },
        "outputId": "eed56e1f-aab7-4794-bd09-620de3b041af"
      },
      "outputs": [
        {
          "output_type": "stream",
          "name": "stdout",
          "text": [
            "True\n"
          ]
        }
      ],
      "source": [
        "import os\n",
        "print(os.path.exists(\"/content/fish-vista/classification_train.csv\"))"
      ]
    },
    {
      "cell_type": "code",
      "source": [
        "import pandas as pd\n",
        "import os\n",
        "\n",
        "# 1. 加载原始数据\n",
        "df = pd.read_csv(\"/content/fish-vista/classification_train.csv\", low_memory=False)\n",
        "\n",
        "# 2. 统计每个鱼科下的图像数量（按物种聚合）\n",
        "grouped = df.groupby([\"family\", \"standardized_species\"]).size().reset_index(name='count')\n",
        "\n",
        "# 3. 筛选出图像数量 >= 30 的物种\n",
        "grouped = grouped[grouped['count'] >= 30]\n",
        "\n",
        "# 4. 每个鱼科最多随机选 2 个物种（鱼类），最多保留 5 个鱼科\n",
        "selected_families = grouped.groupby(\"family\")['count'].sum().sort_values(ascending=False).head(5).index.tolist()\n",
        "filtered = grouped[grouped['family'].isin(selected_families)]\n",
        "\n",
        "# 5. 每个鱼科最多选 2 个物种\n",
        "selected_species = (\n",
        "    filtered.groupby(\"family\")\n",
        "    .apply(lambda x: x.sample(n=min(len(x), 2), random_state=42))\n",
        "    .reset_index(drop=True)\n",
        ")\n",
        "\n",
        "# 6. 从原始 df 中筛选图像记录\n",
        "sub_df = df[df['standardized_species'].isin(selected_species['standardized_species'])]\n",
        "\n",
        "# 7. 每个物种最多取 30 张\n",
        "subset = sub_df.groupby('standardized_species', group_keys=False).apply(\n",
        "    lambda x: x.sample(n=min(len(x), 30), random_state=42)\n",
        ").reset_index(drop=True)\n",
        "\n",
        "# 8. 构建完整图像路径\n",
        "def resolve_path(file_name):\n",
        "    try:\n",
        "        chunk = file_name.split('/')[1].split('_')[1]\n",
        "        return os.path.join(\"/content/fish-vista/Images\", f\"chunk_{chunk}\", os.path.basename(file_name))\n",
        "    except:\n",
        "        return None\n",
        "\n",
        "subset['image_path'] = subset['file_name'].apply(resolve_path)\n",
        "subset = subset[subset['image_path'].notnull()]\n",
        "subset['image_exists'] = subset['image_path'].apply(lambda x: os.path.exists(x))\n",
        "subset = subset[subset['image_exists']].reset_index(drop=True)\n",
        "\n",
        "# 9. 展示摘要\n",
        "print(f\"✅ 最终子集包含 {subset['family'].nunique()} 个鱼科，{subset['standardized_species'].nunique()} 个物种，{len(subset)} 张图像\")\n",
        "print(subset[['family', 'standardized_species']].value_counts())"
      ],
      "metadata": {
        "colab": {
          "base_uri": "https://localhost:8080/"
        },
        "id": "QgUc-edzpbhk",
        "outputId": "787435b8-b7cb-4e08-fab0-827d10c9c1f4"
      },
      "execution_count": null,
      "outputs": [
        {
          "output_type": "stream",
          "name": "stdout",
          "text": [
            "✅ 最终子集包含 8 个鱼科，10 个物种，299 张图像\n",
            "family         standardized_species\n",
            "Centrarchidae  lepomis megalotis       30\n",
            "               lepomis miniatus        30\n",
            "Cottidae       cottus perplexus        30\n",
            "Cyprinidae     notropis rubellus       30\n",
            "Esocidae       esox americanus         30\n",
            "Ictaluridae    noturus exilis          30\n",
            "Esocidae       esox lucius             30\n",
            "Cottidae       cottus carolinae        29\n",
            "Cyprinidae     notropis telescopus     28\n",
            "Ictaluridae    noturus eleutherus      28\n",
            "ictaluridae    noturus eleutherus       2\n",
            "cottidae       cottus carolinae         1\n",
            "cyprinidae     notropis telescopus      1\n",
            "Name: count, dtype: int64\n"
          ]
        },
        {
          "output_type": "stream",
          "name": "stderr",
          "text": [
            "/tmp/ipython-input-4-3213855260.py:20: DeprecationWarning: DataFrameGroupBy.apply operated on the grouping columns. This behavior is deprecated, and in a future version of pandas the grouping columns will be excluded from the operation. Either pass `include_groups=False` to exclude the groupings or explicitly select the grouping columns after groupby to silence this warning.\n",
            "  .apply(lambda x: x.sample(n=min(len(x), 2), random_state=42))\n",
            "/tmp/ipython-input-4-3213855260.py:28: DeprecationWarning: DataFrameGroupBy.apply operated on the grouping columns. This behavior is deprecated, and in a future version of pandas the grouping columns will be excluded from the operation. Either pass `include_groups=False` to exclude the groupings or explicitly select the grouping columns after groupby to silence this warning.\n",
            "  subset = sub_df.groupby('standardized_species', group_keys=False).apply(\n"
          ]
        }
      ]
    },
    {
      "cell_type": "code",
      "source": [
        "import shutil\n",
        "from sklearn.model_selection import train_test_split\n",
        "\n",
        "# 指定输出目录\n",
        "base_dir = \"/content/fish_dataset_mini\"\n",
        "train_dir = os.path.join(base_dir, \"train\")\n",
        "val_dir = os.path.join(base_dir, \"val\")\n",
        "\n",
        "# 清空旧目录\n",
        "if os.path.exists(base_dir):\n",
        "    shutil.rmtree(base_dir)\n",
        "\n",
        "# 创建 train/val 目录\n",
        "for d in [train_dir, val_dir]:\n",
        "    os.makedirs(d, exist_ok=True)\n",
        "\n",
        "# 按类别划分图像\n",
        "for cls in subset[\"standardized_species\"].unique():\n",
        "    cls_df = subset[subset[\"standardized_species\"] == cls]\n",
        "    image_paths = cls_df[\"image_path\"].tolist()\n",
        "    image_paths = [p for p in image_paths if isinstance(p, str)]  # 防止 None\n",
        "\n",
        "    train_imgs, val_imgs = train_test_split(image_paths, test_size=0.2, random_state=42)\n",
        "\n",
        "    os.makedirs(os.path.join(train_dir, cls), exist_ok=True)\n",
        "    os.makedirs(os.path.join(val_dir, cls), exist_ok=True)\n",
        "\n",
        "    for src in train_imgs:\n",
        "        shutil.copy(src, os.path.join(train_dir, cls, os.path.basename(src)))\n",
        "    for src in val_imgs:\n",
        "        shutil.copy(src, os.path.join(val_dir, cls, os.path.basename(src)))\n",
        "\n",
        "print(\"✅ 图像划分完成（train/val）\")"
      ],
      "metadata": {
        "colab": {
          "base_uri": "https://localhost:8080/"
        },
        "id": "36Xs1DDQpgle",
        "outputId": "1805c317-ebff-49c6-d659-7ae807aa7beb"
      },
      "execution_count": null,
      "outputs": [
        {
          "output_type": "stream",
          "name": "stdout",
          "text": [
            "✅ 图像划分完成（train/val）\n"
          ]
        }
      ]
    },
    {
      "cell_type": "code",
      "source": [
        "import os\n",
        "import torch\n",
        "import torch.nn as nn\n",
        "import torch.optim as optim\n",
        "from torchvision import datasets, transforms\n",
        "from torch.utils.data import DataLoader\n",
        "from torchvision.models import mobilenet_v2\n",
        "import matplotlib.pyplot as plt\n",
        "\n",
        "# ==== 数据路径 ====\n",
        "data_dir = \"/content/fish_dataset_mini\"\n",
        "train_dir = os.path.join(data_dir, \"train\")\n",
        "val_dir = os.path.join(data_dir, \"val\")\n",
        "\n",
        "# ==== 参数设置 ====\n",
        "num_classes = 10\n",
        "batch_size = 32\n",
        "num_epochs = 20\n",
        "learning_rate = 0.001\n",
        "\n",
        "# ==== 数据增强与预处理 ====\n",
        "transform_train = transforms.Compose([\n",
        "    transforms.Resize((224, 224)),\n",
        "    transforms.RandomHorizontalFlip(),\n",
        "    transforms.ToTensor(),\n",
        "    transforms.Normalize([0.485, 0.456, 0.406],\n",
        "                         [0.229, 0.224, 0.225])\n",
        "])\n",
        "transform_val = transforms.Compose([\n",
        "    transforms.Resize((224, 224)),\n",
        "    transforms.ToTensor(),\n",
        "    transforms.Normalize([0.485, 0.456, 0.406],\n",
        "                         [0.229, 0.224, 0.225])\n",
        "])\n",
        "\n",
        "train_dataset = datasets.ImageFolder(train_dir, transform=transform_train)\n",
        "val_dataset = datasets.ImageFolder(val_dir, transform=transform_val)\n",
        "train_loader = DataLoader(train_dataset, batch_size=batch_size, shuffle=True)\n",
        "val_loader = DataLoader(val_dataset, batch_size=batch_size, shuffle=False)\n",
        "\n",
        "# ==== CBAM 模块 ====\n",
        "class CBAM_Module(nn.Module):\n",
        "    def __init__(self, channels, reduction=16, kernel_size=7):\n",
        "        super().__init__()\n",
        "        self.avg_pool = nn.AdaptiveAvgPool2d(1)\n",
        "        self.max_pool = nn.AdaptiveMaxPool2d(1)\n",
        "\n",
        "        self.shared_mlp = nn.Sequential(\n",
        "            nn.Linear(channels, channels // reduction, bias=False),\n",
        "            nn.ReLU(),\n",
        "            nn.Linear(channels // reduction, channels, bias=False)\n",
        "        )\n",
        "        self.sigmoid_channel = nn.Sigmoid()\n",
        "\n",
        "        self.conv_spatial = nn.Conv2d(2, 1, kernel_size, padding=kernel_size // 2, bias=False)\n",
        "        self.sigmoid_spatial = nn.Sigmoid()\n",
        "\n",
        "    def forward(self, x):\n",
        "        b, c, _, _ = x.size()\n",
        "        avg = self.shared_mlp(self.avg_pool(x).view(b, c))\n",
        "        max_ = self.shared_mlp(self.max_pool(x).view(b, c))\n",
        "        channel_attn = self.sigmoid_channel(avg + max_).view(b, c, 1, 1)\n",
        "        x = x * channel_attn\n",
        "\n",
        "        avg_out = torch.mean(x, dim=1, keepdim=True)\n",
        "        max_out, _ = torch.max(x, dim=1, keepdim=True)\n",
        "        spatial_attn = self.sigmoid_spatial(self.conv_spatial(torch.cat([avg_out, max_out], dim=1)))\n",
        "        x = x * spatial_attn\n",
        "        return x\n",
        "\n",
        "# ==== MobileNetV2 + CBAM ====\n",
        "class MobileNetV2_CBAM(nn.Module):\n",
        "    def __init__(self, num_classes):\n",
        "        super().__init__()\n",
        "        self.base = mobilenet_v2(pretrained=True)\n",
        "        self.cbam = CBAM_Module(channels=1280)\n",
        "        self.base.classifier = nn.Sequential(\n",
        "            nn.Dropout(0.2),\n",
        "            nn.Linear(1280, num_classes)\n",
        "        )\n",
        "\n",
        "    def forward(self, x):\n",
        "        x = self.base.features(x)\n",
        "        x = self.cbam(x)\n",
        "        x = nn.functional.adaptive_avg_pool2d(x, 1).reshape(x.size(0), -1)\n",
        "        x = self.base.classifier(x)\n",
        "        return x\n",
        "\n",
        "# ==== 初始化模型 ====\n",
        "device = torch.device(\"cuda\" if torch.cuda.is_available() else \"cpu\")\n",
        "model = MobileNetV2_CBAM(num_classes=num_classes).to(device)\n",
        "\n",
        "# ==== 优化器和损失函数 ====\n",
        "criterion = nn.CrossEntropyLoss()\n",
        "optimizer = optim.Adam(model.parameters(), lr=learning_rate)\n",
        "\n",
        "# ==== 训练循环 ====\n",
        "best_val_acc = 0.0\n",
        "for epoch in range(1, num_epochs + 1):\n",
        "    model.train()\n",
        "    correct = total = 0\n",
        "    for imgs, labels in train_loader:\n",
        "        imgs, labels = imgs.to(device), labels.to(device)\n",
        "        outputs = model(imgs)\n",
        "        loss = criterion(outputs, labels)\n",
        "\n",
        "        optimizer.zero_grad()\n",
        "        loss.backward()\n",
        "        optimizer.step()\n",
        "\n",
        "        preds = torch.argmax(outputs, 1)\n",
        "        correct += (preds == labels).sum().item()\n",
        "        total += labels.size(0)\n",
        "\n",
        "    train_acc = correct / total\n",
        "\n",
        "    # 验证阶段\n",
        "    model.eval()\n",
        "    correct = total = 0\n",
        "    with torch.no_grad():\n",
        "        for imgs, labels in val_loader:\n",
        "            imgs, labels = imgs.to(device), labels.to(device)\n",
        "            outputs = model(imgs)\n",
        "            preds = torch.argmax(outputs, 1)\n",
        "            correct += (preds == labels).sum().item()\n",
        "            total += labels.size(0)\n",
        "    val_acc = correct / total\n",
        "\n",
        "    print(f\"Epoch {epoch}: Train Acc = {train_acc:.4f}, Val Acc = {val_acc:.4f}\")\n",
        "\n",
        "    # 保存最佳模型\n",
        "    if val_acc > best_val_acc:\n",
        "        best_val_acc = val_acc\n",
        "        torch.save(model.state_dict(), \"/content/mobilenetv2_cbam_fish.pth\")\n",
        "        print(\"✅ 模型已保存\")\n",
        "\n",
        "print(\"🎉 训练完成。最佳验证精度：\", best_val_acc)"
      ],
      "metadata": {
        "colab": {
          "base_uri": "https://localhost:8080/"
        },
        "id": "S_qmyNmic-TM",
        "outputId": "5048b74c-0852-4ede-f15a-c20cdde83588"
      },
      "execution_count": null,
      "outputs": [
        {
          "output_type": "stream",
          "name": "stderr",
          "text": [
            "/usr/local/lib/python3.11/dist-packages/torchvision/models/_utils.py:208: UserWarning: The parameter 'pretrained' is deprecated since 0.13 and may be removed in the future, please use 'weights' instead.\n",
            "  warnings.warn(\n",
            "/usr/local/lib/python3.11/dist-packages/torchvision/models/_utils.py:223: UserWarning: Arguments other than a weight enum or `None` for 'weights' are deprecated since 0.13 and may be removed in the future. The current behavior is equivalent to passing `weights=MobileNet_V2_Weights.IMAGENET1K_V1`. You can also use `weights=MobileNet_V2_Weights.DEFAULT` to get the most up-to-date weights.\n",
            "  warnings.warn(msg)\n",
            "Downloading: \"https://download.pytorch.org/models/mobilenet_v2-b0353104.pth\" to /root/.cache/torch/hub/checkpoints/mobilenet_v2-b0353104.pth\n",
            "100%|██████████| 13.6M/13.6M [00:00<00:00, 83.4MB/s]\n"
          ]
        },
        {
          "output_type": "stream",
          "name": "stdout",
          "text": [
            "Epoch 1: Train Acc = 0.3975, Val Acc = 0.6833\n",
            "✅ 模型已保存\n",
            "Epoch 2: Train Acc = 0.7950, Val Acc = 0.7500\n",
            "✅ 模型已保存\n",
            "Epoch 3: Train Acc = 0.8410, Val Acc = 0.7833\n",
            "✅ 模型已保存\n",
            "Epoch 4: Train Acc = 0.8577, Val Acc = 0.7500\n",
            "Epoch 5: Train Acc = 0.8870, Val Acc = 0.7500\n",
            "Epoch 6: Train Acc = 0.9331, Val Acc = 0.7667\n",
            "Epoch 7: Train Acc = 0.9582, Val Acc = 0.7333\n",
            "Epoch 8: Train Acc = 0.9582, Val Acc = 0.7333\n",
            "Epoch 9: Train Acc = 0.9331, Val Acc = 0.7667\n",
            "Epoch 10: Train Acc = 0.9289, Val Acc = 0.8167\n",
            "✅ 模型已保存\n",
            "Epoch 11: Train Acc = 0.9665, Val Acc = 0.7667\n",
            "Epoch 12: Train Acc = 0.9289, Val Acc = 0.7500\n",
            "Epoch 13: Train Acc = 0.9289, Val Acc = 0.6833\n",
            "Epoch 14: Train Acc = 0.9623, Val Acc = 0.7667\n",
            "Epoch 15: Train Acc = 0.9582, Val Acc = 0.8333\n",
            "✅ 模型已保存\n",
            "Epoch 16: Train Acc = 0.9665, Val Acc = 0.8333\n",
            "Epoch 17: Train Acc = 0.9874, Val Acc = 0.8167\n",
            "Epoch 18: Train Acc = 0.9833, Val Acc = 0.7667\n",
            "Epoch 19: Train Acc = 0.9874, Val Acc = 0.8333\n",
            "Epoch 20: Train Acc = 0.9833, Val Acc = 0.7500\n",
            "🎉 训练完成。最佳验证精度： 0.8333333333333334\n"
          ]
        }
      ]
    },
    {
      "cell_type": "code",
      "source": [
        "from torchvision.datasets import ImageFolder\n",
        "\n",
        "# 替换为你的训练集路径\n",
        "train_dir = '/content/fish_dataset_mini/train'\n",
        "\n",
        "# 加载训练集并获取类别名称\n",
        "train_dataset = ImageFolder(train_dir)\n",
        "class_names = train_dataset.classes\n",
        "\n",
        "print(f\"✅ 共检测到 {len(class_names)} 个类别：\\n{class_names}\")"
      ],
      "metadata": {
        "colab": {
          "base_uri": "https://localhost:8080/"
        },
        "id": "9A_3WOevjWRg",
        "outputId": "f4428197-1ebc-4f9f-93ed-2ecdbe342cb8"
      },
      "execution_count": null,
      "outputs": [
        {
          "output_type": "stream",
          "name": "stdout",
          "text": [
            "✅ 共检测到 10 个类别：\n",
            "['cottus carolinae', 'cottus perplexus', 'esox americanus', 'esox lucius', 'lepomis megalotis', 'lepomis miniatus', 'notropis rubellus', 'notropis telescopus', 'noturus eleutherus', 'noturus exilis']\n"
          ]
        }
      ]
    },
    {
      "cell_type": "code",
      "source": [
        "\n",
        "from google.colab import files\n",
        "from PIL import Image\n",
        "import torch\n",
        "from torchvision import transforms\n",
        "import os\n",
        "\n",
        "# 图像预处理流程（与训练保持一致）\n",
        "predict_tf = transforms.Compose([\n",
        "    transforms.Resize((224, 224)),\n",
        "    transforms.ToTensor(),\n",
        "    transforms.Normalize([0.485, 0.456, 0.406],\n",
        "                         [0.229, 0.224, 0.225])\n",
        "])\n",
        "\n",
        "# 上传图像\n",
        "uploaded = files.upload()\n",
        "\n",
        "# 执行预测\n",
        "for fn in uploaded.keys():\n",
        "    try:\n",
        "        img = Image.open(fn).convert('RGB')\n",
        "        input_tensor = predict_tf(img).unsqueeze(0).to(device)\n",
        "\n",
        "        with torch.no_grad():\n",
        "            output = model(input_tensor)\n",
        "            pred_class = torch.argmax(output, dim=1).item()\n",
        "\n",
        "        print(f\"✅ 图像 `{fn}` 的预测类别是：{class_names[pred_class]}\")\n",
        "    except Exception as e:\n",
        "        print(f\"❌ 图像 `{fn}` 处理失败，错误信息：{e}\")"
      ],
      "metadata": {
        "colab": {
          "base_uri": "https://localhost:8080/",
          "height": 132
        },
        "id": "HO1DGHSpjYc8",
        "outputId": "427ea510-144c-4ba3-f1fe-b9d6f4c05a22"
      },
      "execution_count": null,
      "outputs": [
        {
          "output_type": "display_data",
          "data": {
            "text/plain": [
              "<IPython.core.display.HTML object>"
            ],
            "text/html": [
              "\n",
              "     <input type=\"file\" id=\"files-14070569-566b-4510-a2a9-cae999a7551a\" name=\"files[]\" multiple disabled\n",
              "        style=\"border:none\" />\n",
              "     <output id=\"result-14070569-566b-4510-a2a9-cae999a7551a\">\n",
              "      Upload widget is only available when the cell has been executed in the\n",
              "      current browser session. Please rerun this cell to enable.\n",
              "      </output>\n",
              "      <script>// Copyright 2017 Google LLC\n",
              "//\n",
              "// Licensed under the Apache License, Version 2.0 (the \"License\");\n",
              "// you may not use this file except in compliance with the License.\n",
              "// You may obtain a copy of the License at\n",
              "//\n",
              "//      http://www.apache.org/licenses/LICENSE-2.0\n",
              "//\n",
              "// Unless required by applicable law or agreed to in writing, software\n",
              "// distributed under the License is distributed on an \"AS IS\" BASIS,\n",
              "// WITHOUT WARRANTIES OR CONDITIONS OF ANY KIND, either express or implied.\n",
              "// See the License for the specific language governing permissions and\n",
              "// limitations under the License.\n",
              "\n",
              "/**\n",
              " * @fileoverview Helpers for google.colab Python module.\n",
              " */\n",
              "(function(scope) {\n",
              "function span(text, styleAttributes = {}) {\n",
              "  const element = document.createElement('span');\n",
              "  element.textContent = text;\n",
              "  for (const key of Object.keys(styleAttributes)) {\n",
              "    element.style[key] = styleAttributes[key];\n",
              "  }\n",
              "  return element;\n",
              "}\n",
              "\n",
              "// Max number of bytes which will be uploaded at a time.\n",
              "const MAX_PAYLOAD_SIZE = 100 * 1024;\n",
              "\n",
              "function _uploadFiles(inputId, outputId) {\n",
              "  const steps = uploadFilesStep(inputId, outputId);\n",
              "  const outputElement = document.getElementById(outputId);\n",
              "  // Cache steps on the outputElement to make it available for the next call\n",
              "  // to uploadFilesContinue from Python.\n",
              "  outputElement.steps = steps;\n",
              "\n",
              "  return _uploadFilesContinue(outputId);\n",
              "}\n",
              "\n",
              "// This is roughly an async generator (not supported in the browser yet),\n",
              "// where there are multiple asynchronous steps and the Python side is going\n",
              "// to poll for completion of each step.\n",
              "// This uses a Promise to block the python side on completion of each step,\n",
              "// then passes the result of the previous step as the input to the next step.\n",
              "function _uploadFilesContinue(outputId) {\n",
              "  const outputElement = document.getElementById(outputId);\n",
              "  const steps = outputElement.steps;\n",
              "\n",
              "  const next = steps.next(outputElement.lastPromiseValue);\n",
              "  return Promise.resolve(next.value.promise).then((value) => {\n",
              "    // Cache the last promise value to make it available to the next\n",
              "    // step of the generator.\n",
              "    outputElement.lastPromiseValue = value;\n",
              "    return next.value.response;\n",
              "  });\n",
              "}\n",
              "\n",
              "/**\n",
              " * Generator function which is called between each async step of the upload\n",
              " * process.\n",
              " * @param {string} inputId Element ID of the input file picker element.\n",
              " * @param {string} outputId Element ID of the output display.\n",
              " * @return {!Iterable<!Object>} Iterable of next steps.\n",
              " */\n",
              "function* uploadFilesStep(inputId, outputId) {\n",
              "  const inputElement = document.getElementById(inputId);\n",
              "  inputElement.disabled = false;\n",
              "\n",
              "  const outputElement = document.getElementById(outputId);\n",
              "  outputElement.innerHTML = '';\n",
              "\n",
              "  const pickedPromise = new Promise((resolve) => {\n",
              "    inputElement.addEventListener('change', (e) => {\n",
              "      resolve(e.target.files);\n",
              "    });\n",
              "  });\n",
              "\n",
              "  const cancel = document.createElement('button');\n",
              "  inputElement.parentElement.appendChild(cancel);\n",
              "  cancel.textContent = 'Cancel upload';\n",
              "  const cancelPromise = new Promise((resolve) => {\n",
              "    cancel.onclick = () => {\n",
              "      resolve(null);\n",
              "    };\n",
              "  });\n",
              "\n",
              "  // Wait for the user to pick the files.\n",
              "  const files = yield {\n",
              "    promise: Promise.race([pickedPromise, cancelPromise]),\n",
              "    response: {\n",
              "      action: 'starting',\n",
              "    }\n",
              "  };\n",
              "\n",
              "  cancel.remove();\n",
              "\n",
              "  // Disable the input element since further picks are not allowed.\n",
              "  inputElement.disabled = true;\n",
              "\n",
              "  if (!files) {\n",
              "    return {\n",
              "      response: {\n",
              "        action: 'complete',\n",
              "      }\n",
              "    };\n",
              "  }\n",
              "\n",
              "  for (const file of files) {\n",
              "    const li = document.createElement('li');\n",
              "    li.append(span(file.name, {fontWeight: 'bold'}));\n",
              "    li.append(span(\n",
              "        `(${file.type || 'n/a'}) - ${file.size} bytes, ` +\n",
              "        `last modified: ${\n",
              "            file.lastModifiedDate ? file.lastModifiedDate.toLocaleDateString() :\n",
              "                                    'n/a'} - `));\n",
              "    const percent = span('0% done');\n",
              "    li.appendChild(percent);\n",
              "\n",
              "    outputElement.appendChild(li);\n",
              "\n",
              "    const fileDataPromise = new Promise((resolve) => {\n",
              "      const reader = new FileReader();\n",
              "      reader.onload = (e) => {\n",
              "        resolve(e.target.result);\n",
              "      };\n",
              "      reader.readAsArrayBuffer(file);\n",
              "    });\n",
              "    // Wait for the data to be ready.\n",
              "    let fileData = yield {\n",
              "      promise: fileDataPromise,\n",
              "      response: {\n",
              "        action: 'continue',\n",
              "      }\n",
              "    };\n",
              "\n",
              "    // Use a chunked sending to avoid message size limits. See b/62115660.\n",
              "    let position = 0;\n",
              "    do {\n",
              "      const length = Math.min(fileData.byteLength - position, MAX_PAYLOAD_SIZE);\n",
              "      const chunk = new Uint8Array(fileData, position, length);\n",
              "      position += length;\n",
              "\n",
              "      const base64 = btoa(String.fromCharCode.apply(null, chunk));\n",
              "      yield {\n",
              "        response: {\n",
              "          action: 'append',\n",
              "          file: file.name,\n",
              "          data: base64,\n",
              "        },\n",
              "      };\n",
              "\n",
              "      let percentDone = fileData.byteLength === 0 ?\n",
              "          100 :\n",
              "          Math.round((position / fileData.byteLength) * 100);\n",
              "      percent.textContent = `${percentDone}% done`;\n",
              "\n",
              "    } while (position < fileData.byteLength);\n",
              "  }\n",
              "\n",
              "  // All done.\n",
              "  yield {\n",
              "    response: {\n",
              "      action: 'complete',\n",
              "    }\n",
              "  };\n",
              "}\n",
              "\n",
              "scope.google = scope.google || {};\n",
              "scope.google.colab = scope.google.colab || {};\n",
              "scope.google.colab._files = {\n",
              "  _uploadFiles,\n",
              "  _uploadFilesContinue,\n",
              "};\n",
              "})(self);\n",
              "</script> "
            ]
          },
          "metadata": {}
        },
        {
          "output_type": "stream",
          "name": "stdout",
          "text": [
            "Saving 100975_lat_FMNH_FZ#3.jpg to 100975_lat_FMNH_FZ#3.jpg\n",
            "✅ 图像 `100975_lat_FMNH_FZ#3.jpg` 的预测类别是：notropis rubellus\n"
          ]
        }
      ]
    }
  ],
  "metadata": {
    "colab": {
      "provenance": [],
      "authorship_tag": "ABX9TyMXaKIyAcXhtJ6NEAuQHeWc",
      "include_colab_link": true
    },
    "kernelspec": {
      "display_name": "Python 3",
      "name": "python3"
    },
    "language_info": {
      "name": "python"
    }
  },
  "nbformat": 4,
  "nbformat_minor": 0
}